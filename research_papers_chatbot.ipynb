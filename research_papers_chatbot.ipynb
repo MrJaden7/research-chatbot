{
  "cells": [
    {
      "cell_type": "markdown",
      "metadata": {},
      "source": [
        "## Research paper chatbot\n",
        "\n"
      ]
    },
    {
      "cell_type": "code",
      "execution_count": 2,
      "metadata": {},
      "outputs": [],
      "source": [
        "from dotenv import load_dotenv\n",
        "from langchain.document_loaders import DirectoryLoader\n",
        "from langchain.text_splitter import CharacterTextSplitter\n",
        "import chromadb\n",
        "import guidance\n"
      ]
    },
    {
      "cell_type": "code",
      "execution_count": 3,
      "metadata": {},
      "outputs": [
        {
          "data": {
            "text/plain": [
              "True"
            ]
          },
          "execution_count": 3,
          "metadata": {},
          "output_type": "execute_result"
        }
      ],
      "source": [
        "load_dotenv()"
      ]
    },
    {
      "cell_type": "code",
      "execution_count": 4,
      "metadata": {},
      "outputs": [],
      "source": [
        "llmcc = guidance.llms.OpenAI(\"gpt-3.5-turbo\")"
      ]
    },
    {
      "cell_type": "code",
      "execution_count": 7,
      "metadata": {},
      "outputs": [],
      "source": [
        "data = 'put your research paper here'          \n",
        "loader = DirectoryLoader(data)    \n",
        "docs = loader.load()              "
      ]
    },
    {
      "cell_type": "code",
      "execution_count": 14,
      "metadata": {},
      "outputs": [
        {
          "name": "stdout",
          "output_type": "stream",
          "text": [
            "[Document(page_content='ResultsinOptics12(2023)100473\\n\\nAvailableonline28June20232666-9501/©2023TheAuthor(s).PublishedbyElsevierB.V.ThisisanopenaccessarticleundertheCCBY-NC-NDlicense(http://creativecommons.org/licenses/by-nc-nd/4.0/).\\n\\nContents lists available at ScienceDirect\\n\\nResults in Optics\\n\\njournal homepage: www.sciencedirect.com/journal/results-in-optics\\n\\nFundamental study on optical performance of low-melting-point metal mirrors for space telescopes\\n\\nEisuke Imaizumi a, Masatoshi Kondo b,*, Katsuya Murakami a, Yutaka Hayano c, Yuichi Matsuda c a Tokyo Institute of Technology, School of Engineering, Department of Mechanical Engineering, 2-12-1, Ookayama, Meguro-ku, Tokyo 152-8550, Japan b Tokyo Institute of Technology, Institute of Innovative Research, Laboratory for Zero-Carbon Energy, 2-12-1, Ookayama, Meguro-ku, Tokyo 152-8550, Japan c National Astronomical Observatory of Japan, 2-21-1, Osawa, Mitaka-shi, Tokyo 181-8588, Japan\\n\\nA R T I C L E I N F O\\n\\nA B S T R A C T\\n\\nKeywords: Low-melting-point metal Liquid metal Reflectance Space telescopes\\n\\nThe installation of telescopes with larger primary mirrors in outer space is required for the study of the early universe. However, the shipping, assembling and maintenance of the primary mirror are technical challenges. The primary mirror made of low-melting-point metal (LMPM) enables to simplify these procedures. The rotating liquid metal surface is shaped into a parabola and solidified on the site. The technological feasibility depends on the dynamic transformation of the parabolic LMPM mirror and its optical reflectance. The dynamic trans- formation of LMPM mirror was clarified by means of experiments with liquid gallium (Ga) which has a melting point of 302.91 K. The parabolic shape of solid Ga mirror was produced by the axial rotation and the solidifi- cation. The parabolic shape agreed with the theoretical curve obtained by a physical model. The reflectance spectra on the surface of various LMPMs solidified (i.e., Ga, lead (Pb), tin (Sn), bismuth (Bi), lead-bismuth eutectic (Pb-Bi) and Wood’s metal (Bi-Pb-Sn-Cd)) were measured. The reflectance of Ga solidified was approx- imately 70 % and was not degraded in the near-infrared wavelength due to the favorable optical characteristics. The reflectance both for p-polarized and s-polarized light of Ga solidified was measured by the spectropho- ◦ tometer with the polarizer at the angle of incidence of 30 . The trend of measured reflectance agreed with theoretical prediction.\\n\\n, 45\\n\\n\\n\\n\\n\\n, 60\\n\\nand 75\\n\\n1. Introduction\\n\\nTelescope was recently launched, and the diameter of the primary mirror is 6.5 m. These space telescopes have made great impacts to the astronomical science such as a characterization of exoplanets (Char- bonneau et al., 2002; Hinkly, 2022) and a discovery of galaxy formation in the early universe (Williams, 1996; Welch et al., 2022) and highly- redshifted objects. The discovery can be performed by the space obser- vation in infrared wavelength. The space telescopes with larger primary mirrors are being developed, and the improvements of thermal design (Li et al., 2016; Bannon et al., 2021) and vibration isolation system (Qin et al., 2020) have been studied. However, the mirrors are extremely vulnerable and the diameter to be transported is restricted by the size space ships. Therefore, the space transportation of larger primary mir- rors provides a critical challenge from a technological viewpoint.\\n\\nThe lunar surface is an attractive location for long-term astronomical observations using telescopes, since night-time hours are long as approximately 14 days and the astronomical observations are not affected by the atmosphere and weather conditions. The concept of lunar telescope (LT) has been proposed in the previous study, and the LT with 15 cm aperture mirror has been operated from 2013 (Meng et al., 2016). Artemis program will promote the exploration of the moon (Kumari et al., 2022; Evans and Graham, 2020).\\n\\nThe exploration of the early universe is one of the important topics to clarify the evolution of the universe. The infrared observations using space telescopes located in the outer space and/or on the moon at very low temperature will play an important role in the study of the early universe. The space telescopes with larger primary mirrors have higher angular resolution and light collecting power. Hubble Space Telescope is the optical/infrared space telescope operating on the orbit of the earth, and the diameter of the primary mirror is 2.4 m. James Webb Space\\n\\nThe concept of liquid metal telescope (LMT) has been studied (Ols- son-steel, 1986; Borra, 1982), and the LMT is operated in Canada (Kumar et al., 2018; Hickson et al., 2007). The spin of liquid mercury (Hg) which has a melting point of 234.32 K forms its parabolic mirror. The aperture diameter of LMT can be increased more easily than the\\n\\nCorresponding author.\\n\\nE-mail addresses: kondo.m.ai@m.titech.ac.jp (M. Kondo), y.hayano@nao.ac.jp (Y. Hayano), yuichi.matsuda@nao.ac.jp (Y. Matsuda).\\n\\nhttps://doi.org/10.1016/j.rio.2023.100473 Received 21 March 2023; Received in revised form 11 May 2023; Accepted 26 June 2023\\n\\nResultsinOptics12(2023)1004732\\n\\nE. Imaizumi et al.\\n\\ntelescopes with solid mirrors (Li et al., 2019), since the LMT is not restricted by the technical issues of on-site assembling with high preci- sion and space transportation as explained in next chapter. The opera- tion of LMT on the lunar surface (Klimas, 2010) enables to observe distant objects which are not followed up with ground-based telescopes (Angel, 2006; Angel et al., 2008). However, the LMT cannot point at off- zenith (out-of-plane tip/tilt) angles since the liquid mirror cannot be tilted. The Zenith program of the Defense Advanced Research Projects Agency (DARPA) is going to investigate and develop technologies to facilitate demonstration of LMT and liquid mirror that can be pointed at off-zenith (out-of-plane tip/tilt) angles.\\n\\nLMPM layer can reduce the total weight of the mirror which is major driver of the shipping cost.\\n\\nThe building of space telescopes with the parabolic LMPM mirror is rather simple. The LMPM melted is placed on the shell assembled, and axial rotation of the shell with the LMPM melted shapes the parabolic mirror on the site. The heat and electricity are required only in the shaping procedure of the parabolic mirror. High precision is not required for the assembling of the shell with support system, though it is required for the assembling of segmented mirrors. The transformation on the orbit of the earth is also possible by the use of thrust-for-gravity. The Lunar Liquid Mirror Telescope (LLMT) with a silver coated ionic liquid was recently proposed (Borra et al., 2007). The LMPM mirror revealed similar reflectivity to the LLMT without the deposition of a reflective metal on the surface as described in a latter chapter.\\n\\nThe present paper proposes a concept of large primary solid mirror usable for space telescopes, which is made of low-melting-point metal (LMPM). This concept enables the on-site transformation of solid mirror by the axial rotation and solidification of liquid metal on the moon and/ or in the space. The LMPM mirror can be operated at very low tem- perature for infrared observations as the same as conventional solid mirrors. The LMPM mirror can observe the whole sky since the obser- vation angle of the mirror is changeable due to the tilt of the mirror. The LMPM mirror is assembled on the site after the shipping to the space and the moon in the parts of liquid metal filled in the container and the support system disassembled. Therefore, the size of LMPM mirror is not limited by the size of space ships as the same as the LMT. The LMPM mirror can be applied also for robust final optics in a laser inertial fusion energy (IFE) power plant, since it can be easily repaired when the mirror has a cumulative damage via neutron irradiation during the reactor operation. However, the reflective performance of the solidified LMPMs is not made clear so far.\\n\\nThe telescope with LMPM mirror is operated in the same way as conventional solid mirrors on the site as shown in Fig. 1(b). Neither heating or rotating are not required during the operation of the LMPM mirror. The LMPM mirror can be tilted, though liquid mirror cannot be tilted basically. The melting of the mirror by the radiation heat from the sun must be eliminated during the operation of the telescope. The ra- diation heat from the sun is needed to be insulated by a sun shield. The LMPM mirror can be operated at very low temperature for the infrared observations, which is required for the study on the early universe.\\n\\nThe focal length of the LMPM mirror is adjustable by changing the axial rotation speed during the solidification process. The parabolic mirror having a longer focal length is obtained under a slower rotational speed, and that having a shorter focal length is obtained under a faster rotational speed. The mirror with a longer focal length enables to observe an enlarged view of a narrow field. The mirror with a shorter focal length enables to observe wider view field brightly. Therefore, the transformable LMPM mirror enables to observe astronomical objects at various magnification by changing the focal length.\\n\\nThe purpose of the present study is to clarify the reflectance of LMPM mirrors, which are fabricated by natural cooling. The dynamic trans- formation of parabolic LMPM mirror by an axial rotation and solidifi- cation was also studied.\\n\\nThe primary mirror located in space telescopes is irradiated with cosmic rays, and the mirror is then assumed to be damaged and degraded. The LMPM mirror can be easily repaired according to the melting and solidification under the rotational condition. The mainte- nance of the LMPM mirror is simpler than that of solid mirrors.\\n\\n2. Concept of low-melting-point metal mirrors usable for space telescopes\\n\\nTable 1 presents the major properties of candidate LMPMs (Carvill, 1994; Duggin, 1969; Bang et al., 2003; Benamati and Sobolev, 2007). Their melting-points are in the range between 302.9 K and 600.6 K. Fig. 1 shows the conceptual design of the LMPM mirrors. The LMPM melted is filled in the simple shell and the shell is axially rotated at a constant angular velocity. The liquid LMPM transforms into the para- bolic shape by the axial rotation as the same as the shaping procedure of liquid mirrors, and the parabolic shape is kept by the cooling and so- lidification as indicated in Fig. 1(a). This shaping procedure is per- formed on the site. Here, the parabolic shape was determined by the inertial and gravitational forces as explained in a latter chapter.\\n\\n3. Experimental conditions\\n\\n3.1. Dynamic transformation and solidification of liquid LMPM into parabolic shape\\n\\nThe dynamic transformation of parabolic LMPM mirrors was inves- tigated by means of the experiments with the apparatus shown in Fig. 2. The experiments were performed in an air atmosphere at atmospheric pressure. The liquid gallium (Ga) which has a melting point of 302.9 K (Table 1) was poured into the crucible (316L) at approximately 330 K. The crucible was rotated axially by the motor. The rotational speed was measured with a transmission-type photosensor. The rotational speeds were 50 rpm, 100 rpm, 150 rpm and 200 rpm. The liquid Ga was so- lidified by natural cooling at room temperature under the axial rotation. The surface height of the Ga solidified was measured by the distance sensor which was installed in the apparatus.\\n\\nThe LMPM mirror can be scaled up without the restriction of the shipping and assembling as the same as the liquid mirror. The LMPM mirror is separately shipped to the space and/or the moon in the parts of LMPM filled in the container and the support system disassembled. The shell of the mirror is also shipped in the small parts, and they were assembled on the site. Therefore, the diameter of the mirror to be transported is not limited by the size of space ships. The thinning of\\n\\nTable 1 Major features of low-melting-point metals (Carvill, 1994; Duggin, 1969; Bang et al., 2003; Benamati and Sobolev, 2007).\\n\\n316L austenitic steel\\n\\nLow-melting-point metals\\n\\nWood’s metal*\\n\\nLBE**\\n\\nPb\\n\\nBi\\n\\nSn\\n\\nGa\\n\\n1644–1673 7.98 500 16\\n\\nMelting point (K) Density (g/cm3) Specific heat (J/kg/K) Thermal conductivity (W/m/K)\\n\\n343.2 9.67 168 19\\n\\n398.2 10.57 147 9.6\\n\\n600.6 11.36 130 35\\n\\n544.6 9.75 142 8\\n\\n505.1 7.37 226 67\\n\\n302.9 5.90 370 29\\n\\nChemical composition of Wood’s metal: 50Bi-24Pb-14Sn-12Cd (wt %). *Chemical composition of lead–bismuth eutectic (LBE): 44.5Pb-55.5Bi (wt %).\\n\\nResultsinOptics12(2023)1004733\\n\\nE. Imaizumi et al.\\n\\nFig. 1. Conceptual design of low-melting-point metal (LMPM) mirrors for space telescopes: (a) Formation of parabolic shape by axial rotation of liquid metal, (b) Parabolic mirror formed after solidification under axial rotation and natural cooling.\\n\\nFig. 2. Experimental apparatus to investigate transformation behavior of parabolic shape with Ga.\\n\\n3.2. Specimen preparation of low-melting-point metals for optical reflectance measurements\\n\\ncooling at a static condition. The specimens of 316L austenitic steel, Pb, Bi and Sn were embedded in resin for the mechanical polish. Their surface were sequentially polished by SiC papers of #500, #1200, #2000 and #4000 under wet condition (i.e., with water as a lubricant). The surface of some specimens was finished with colloidal silica (Par- ticle diameter: 0.25 µm) or water-based diamond suspension (Diamond size: 0.25 µm). The arithmetic mean surface roughness of all the speci- mens was measured with a 3D scanning laser microscope (SFT-4500, SHIMADZU CORPORAION, Kyoto-shi, Kyoto, Japan). The surface of solidified Wood’s metal was observed with SEM (VE-9800, KEYENCE, Osaka-shi, Osaka, Japan). Table 3 presents arithmetic mean surface roughness of solidified LMPMs. Table 4 presents the variation of\\n\\nTable 2 presents the list of specimens used for the reflectance mea- surements. The specimens of solidified LMPMs (i.e., Wood’s metal, lead–bismuth eutectic (LBE), Pb, Bi, Sn and Ga) were prepared. The liquid LMPMs were melted by a plate heater and solidified under natural\\n\\nTable 2 List of specimens used for measurement of optical reflectance.\\n\\nSurface observation and optical reflectance measurement\\n\\nAfter polished\\n\\nAfter solidification (Static condition)\\n\\n–\\n\\n316L austenitic steel Wood’s metal LBE Pb Bi Sn Ga\\n\\nYes Yes Yes Yes Yes Yes No\\n\\nTable 3 Arithmetic mean surface roughness of low-melting-point metals solidified under natural cooling at static condition (Unit: µm).\\n\\nYes Yes Yes Yes Yes Yes\\n\\nWood’s metal\\n\\nLBE\\n\\nPb\\n\\nBi\\n\\nSn\\n\\nGa\\n\\n0.748\\n\\n5.636\\n\\n0.074\\n\\n0.534\\n\\n0.072\\n\\n0.049\\n\\nResultsinOptics12(2023)1004734\\n\\nE. Imaizumi et al.\\n\\n4. Results and discussions\\n\\nTable 4 Arithmetic mean surface roughness of metal specimens after various polishing procedures (Unit: µm).\\n\\n4.1. Dynamic formation of parabolic LMPM mirror\\n\\nPb\\n\\nBi\\n\\nSn\\n\\n316L austenitic steel\\n\\nThe parabolic surface of liquid Ga was shaped under the axial rota- tion by the equilibrium of gravitational and centrifugal forces at the mass point in a tangential direction as shown in Fig. 4(a). The theoretical curve of the parabolic surface is expressed as follows:.\\n\\nSiC#1200 SiC#2000 SiC#4000 Colloidal silica Diamond suspension\\n\\n0.273 0.106 0.058 – –\\n\\n0.09 0.105 0.033 0.031 0.021\\n\\n0.112 0.086 0.020 0.041 0.018\\n\\n0.119 0.050 0.011 0.031 –\\n\\nω2 2g\\n\\nx2\\n\\ny =\\n\\n(1)\\n\\narithmetic mean surface roughness of the LMPM specimens after the various polishing procedures. The surface roughness was controlled in the range between 0.273 µm and 0.011 µm. The reflectance of specimens which had various surface roughness was measured to clarify the effect of surface roughness on the reflectance.\\n\\nwhere ω [rad/s] is angular velocity, g [m/s2] is gravitational accel- eration and χ [m] is a horizontal distance from the center. The liquid Ga was naturally cooled and solidified under the rotating condition. The solid parabolic mirror was then obtained as shown in Fig. 4(b and c). The solid green line is approximate curve obtained by the curve fitting as quadratic function of surface shape formed in the experiment. This fitting curve was obtained for the experimental values in the range of 0< x <10 mm to eliminate the effect of deformation around the inner wall of the crucible (i.e., x=±13) possibly due to the surface tension of liquid Ga. The meniscus of liquid Ga was formed around the inner wall of the crucible in the rotating condition.\\n\\n3.3. Measurement of reflectance on surface of low-melting-point metal specimens\\n\\nThe reflectance of solidified LMPM specimens was evaluated by relative specular reflectance measurement with the spectrophotometer (SolidSpec-3700, SHIMADZU CORPORATION, Kyoto-shi, Kyoto, Japan) as shown in Fig. 3(a), which is installed in National Astronomical Ob- servatory of Japan (NAOJ). The reflectance of the LMPM specimens was based on the intensity ratio between the incident light and the light detected by the detector. The wavelength of incident light was varied in the range between ultraviolet and near infrared (300–2000 nm). The ◦ angle of incidence was 15 in all the measurements of optical reflectance.\\n\\nThe surface shape of Ga solidified at the rotational speed of 50 rpm did not agree well with the parabolic curve (blue solid line) given by Eq. (1) as shown in Fig. 4(b). The surface height around the inner wall of the crucible in the experiment was higher than that of the curve given by Eq. (1). This difference was caused by the upward force applied to liquid Ga by the formation of meniscus.\\n\\nThe surface shape of Ga solidified at the rotational speed of 150 rpm agreed well with the parabolic curve (blue solid line) given by Eq. (1) as shown in Fig. 4(c). However, the surface height of Ga solidified around the inner wall of the crucible was lower than the parabolic curve. This difference was caused by the downward force applied to liquid Ga for the formation of meniscus.\\n\\nThe reflectance of the specimens which had various surface rough- ness (Table 4) was also measured. Fig. 3(b and c) show the examples of the specimens. A lot of needles were recognized on the surface of so- lidified Wood’s metal specimen as shown in Fig. 3(c) according the precipitation of intermetallic compounds during the solidification procedure.\\n\\nThe root mean squared error (RMSE) between the surface shape obtained in the experiment and the theory was estimated in the range of 0< x <10 mm. RMSEs in the experiment at the rotational speeds of 50 rpm and 150 rpm was 148 μm and 105 μm, respectively. The shape of rotating liquid Ga around the inner wall of the crucible was mainly determined by centrifugal force and the formation of meniscus. The centrifugal force was smaller when the rotational speed was smaller. Therefore, the effect of meniscus on the shape was more clearly recog- nized when the centrifugal force was smaller at the lower rotational speed.\\n\\nThe optical reflectance depends on the angle of incidence due to the polarization effect. The measurement of polarized optical reflectance on the surface of solidified Ga was then performed both for p-polarized and s-polarized lights. The vibration direction of p-polarized light is parallel to the plane of incidence. On the other hand, the vibration direction of s- polarized light is vertical to the plane of incidence. The optical reflec- tance for p-polarized and s-polarized lights on solidified Ga was measured with the spectrophotometer with the polarizer. The wave- length of incident light was 689 nm, and the angles of incidence were 30\\n\\n\\n\\n, 45\\n\\n, 60\\n\\nand 75\\n\\nin the measurements.\\n\\nThese results indicate that the parabolic mirrors can be shaped by the solidification of rotating liquid LMPM. The effect of the solidification procedure on the production of parabolic shape was negligibly small,\\n\\nFig. 3. Reflectance measurements of metal specimens: (a) Spectrophotometer used for reflectance measurements of metal specimens, (b) Sn specimen polished with SiC papers and diamond paste (Surface roughness: 0.018 µm), (c) Wood’s metal specimen solidified under natural cooling at static condition (Surface roughness: 0.748 µm),\\n\\nResultsinOptics12(2023)1004735\\n\\nE. Imaizumi et al.\\n\\nFig. 4. Parabolic shape of Ga obtained in experiments: (a) Parabolic curve determined by gravitational and centrifugal forces applied to liquid surface, (b) Parabolic shape of solidified Ga at rotational speed of 50 rpm, (c) Parabolic shape of solidified Ga at rotational speed of 150 rpm.\\n\\n[\\n\\n]\\n\\nthough the effect of meniscus on the parabolic shape was recognized around the inner wall of the liquid crucible. The effect of meniscus on the parabolic shape can be eliminated when the height of the shell is low and the diameter of the shell is large.\\n\\n(\\n\\n)2\\n\\n2πσ λ\\n\\nS = exp\\n\\n(cid:0)\\n\\n(2)\\n\\nwhere σ[nm] is root mean square surface error and λ[nm] is the wave- length of light. σ is given as the surface roughness of solidified Ga (i.e., 0.049 µm) in the present work. The Strehl ratio of Ga solidified is then estimated as 95.9 % at the wavelength of 1500 nm by Eq. (2). The Strehl ratio higher than 80 % is given as ideal mirror. This Strehl ratio of Ga solidified is sufficiently high when the wavelength of the incident light is in the near-infrared range.\\n\\n4.2. Reflectance of low-melting-point metal specimens\\n\\n4.2.1. Effect of surface roughness on reflectance of LMPMs\\n\\nFig. 5(a) shows the surface condition of 316L specimen which was sequentially polished by SiC papers of #500, #1200, #2000 and #4000. The surface roughness was 0.011 µm as presented in Table 4. The re- flected image of the mark drawn on the white plate was clearly recog- nized on the specimen surface.\\n\\nFig. 5(b) shows the surface conditions of Ga solidified under the rotated condition where the rotational speed was 50 rpm. The mark drawn on the white plate was reflected well on the surface. Fig. 5(c) shows the surface conditions of Bi specimen which was naturally cooled and solidified at a static condition. The surface roughness was 0.534 µm. The reflected image of the mark drawn on the white plate was not\\n\\nThe surface roughness of Ga solidified was approximately 0.049 µm. The Strehl ratio which indicates the convergence ratio in the image field of an optical system can be expressed as follows:\\n\\nFig. 5. Surface conditions of metal specimens: (a) Surface of 316L austenitic steel sequentially polished by SiC papers of #500, #1200, #2000, and #4000 (Arithmetic mean surface roughness: 0.011 µm), (b) Surface of Ga solidified under axial rotation (Rotational speed : 50 rpm), (c) Surface of solidified Bi, (d) Surface of solidified Wood’s metal and its SEM image (SEM: Scanning Electron Microscope).\\n\\nResultsinOptics12(2023)1004736\\n\\nE. Imaizumi et al.\\n\\nrecognized on the surface at all, since the surface condition was rough due to the precipitation of Bi crystals. Fig. 5(d) shows the surface con- ditions of Wood’s metal specimen which was naturally cooled and so- lidified. The surface roughness was 0.748 µm. The reflected image of the mark drawn on the white plate was not recognized at all, since the surface condition was rough due to the precipitation of intermetallic compounds. The surface roughness of Ga solidified was 0.049 µm, and this surface roughness was the smallest in all the solidified specimens as presented in Table 3.\\n\\n(n (cid:0) 1)2 + κ2 (n + 1)2 + κ2\\n\\nR =\\n\\n(4)\\n\\nwhere R is reflectance, n is refractive index, and κ is extinction co- efficient. Here, the incident light is vertically irradiated onto the metal surface. The value of optical constants, n and κ, depend on the wave- length of light. The theoretical reflectance of Ga was estimated from Eq. (4) with the optical constants of Ga provided in the previous study (Adachi, 2012). The theoretical reflectance is shown with vacant circles in Fig. 6(b), and the trend agrees well with the reflectance measured in the experiment. The reflectance of Ga does not decrease even at a shorter wavelength in theory. The reflectance of Ga is not affected even when the wavelength is short, since Ga has favorable optical characteristics. The Ga solidified can be a promising material of the LMPM mirror usable for the astronomical science, since it has higher optical reflectance than the other LMPMs in the near-infrared wavelength based on the present results.\\n\\nFig. 6 shows the reflectance spectra of the LMPM surface in the wavelength range between ultraviolet and near infrared (300–2000 nm) measured in the experiment. The LMPMs of Sn, Bi, Pb and 316L which were sequentially polished by SiC papers of #500, #1200, #2000 and #4000 revealed smaller reflectance when the wavelength of incident light was shorter as shown in Fig. 6(a). The reflectance of Ga solidified was higher than the other LMPMs solidified. The reflectance of Sn, Pb, Bi, Wood’s metal and LBE specimens solidified was lower than the specimen polished as shown in Fig. 6(b). The reason of the low optical reflectance was due to the precipitation of the crystals and intermetallic compounds on their surface during the cooling down and solidification procedures.\\n\\n4.2.3. Reflectance of Ga solidified for polarized light\\n\\nThe reflectance of Ga solidified was measured for p-polarized and s- polarized lights, and the experimenta; result was shown as plots in Fig. 8. The optical reflectance for p-polarized and s-polarized lights (i.e., Rp and Rs) is theoretically expressed as follows:\\n\\nFig. 7(a and b) show the relation between reflectance and surface roughness of the LMPM specimens at the wavelengh of 600 nm and 1500 nm, respectively. The linear approximation of the relationship was made by least-squares method and shown with dotted, broken and solid lines in Fig. 7. The reflectance of LMPM specimens was higher when their surface roughness was lower.\\n\\n⃒ ⃒ ⃒NGa ⃒ ⃒ ⃒NGa\\n\\n⃒ ⃒ ⃒ ⃒ ⃒ ⃒\\n\\n̅̅̅̅̅̅̅̅̅̅̅̅̅̅̅̅̅̅̅̅̅̅̅̅̅̅̅̅̅̅̅̅̅̅̅ 2sin2ϕ 2 (cid:0) Nair NGa ̅̅̅̅̅̅̅̅̅̅̅̅̅̅̅̅̅̅̅̅̅̅̅̅̅̅̅̅̅̅̅̅̅̅̅ 2sin2ϕ 2 (cid:0) Nair NGa\\n\\n√\\n\\n2\\n\\n2cosϕ (cid:0) Nair\\n\\nRp =\\n\\n(5)\\n\\n√\\n\\n2\\n\\n2cosϕ + Nair\\n\\n⃒ ⃒ ⃒Naircosϕ (cid:0) ⃒ ⃒ ⃒Naircosϕ +\\n\\n⃒ ⃒ ⃒ ⃒ ⃒ ⃒\\n\\n√\\n\\n̅̅̅̅̅̅̅̅̅̅̅̅̅̅̅̅̅̅̅̅̅̅̅̅̅̅̅̅̅̅̅̅̅̅̅ 2sin2ϕ 2 (cid:0) Nair NGa ̅̅̅̅̅̅̅̅̅̅̅̅̅̅̅̅̅̅̅̅̅̅̅̅̅̅̅̅̅̅̅̅̅̅̅ 2sin2ϕ 2 (cid:0) Nair NGa\\n\\n4.2.2. Effect of wavelength of light on optical reflectance of LMPMs\\n\\n2\\n\\nThe energy of photon becomes larger when the wavelength of inci-\\n\\nRs =\\n\\n(6)\\n\\n√\\n\\n2\\n\\ndent light is shorter as formulated in Eq. (3):\\n\\nhc λ\\n\\nE =\\n\\n(3)\\n\\nwhere NGa is complex refractive index of solid Ga, Nair is refractive index of air and ϕ[deg] is angle of incidence. Complex refractive index of solid Ga is expressed as follows.\\n\\nwhere E [eV] is energy of photon, h [Js] is Planck constant, c [m/s] is speed of light and λ [nm] is wavelength of light. The photon which has larger energy can easily penetrate into the matrix of metal through the surface. The photon which penetrates into the metal is not specularly reflected on the surface, and it can be refracted and reflected inside the metal matrix. The photon cannot be detected by the detector of spec- trophotometer in the experiment, and the optical reflectance became lower. Thus, the reflectance of the LMPMs at shorter wavelength can be lower.\\n\\nNGa = nGa + iκGa\\n\\n(7)\\n\\nwhere nGa and κGa are refractive index and extinction coefficient of solid Ga, respectively. The optical constants of Ga (nGa and κGa) are available in the previous literature (Adachi, 2012). The theoretical reflectance of solid Ga for p-polarized light is shown with dotted line and that for s-polarized light is shown with broken lines in Fig. 8. The reflectance measured in the experiment agreed well with that estimated in theory.\\n\\nThe reflectance of Ga solidified was higher than that of other LMPMs solidified as shown in Fig. 6(b) and Fig. 7(b). The reflectance didn’t decrease when the wavelength of incident light was shorter as shown in Fig. 6(b). The reflectance of metals is theoretically expressed as follows:\\n\\n5. Conclusions\\n\\nThe concept of solid LMPM mirrors for space telescope was proposed\\n\\nFig. 6. Optical reflectance spectra obtained by measurement with LMPM specimens : (a) Polished surface of metals, (b) Naturally solidified surface of LMPMs.\\n\\nResultsinOptics12(2023)1004737\\n\\nE. Imaizumi et al.\\n\\nFig. 7. Relationship between surface roughness and optical reflectance of LMPMs: (a) wavelength of incident light was 600 nm and (b) wavelength of incident light was 1500 nm.\\n\\nAcknowledgement\\n\\nThis research was supported by the grant of Joint Research by the National Institutes of Natural Sciences (NINS). (NINS program No, 01112204).\\n\\nReferences\\n\\nAdachi, S., 2012. The Handbook on Optical Constants of Metals In Tables and Figures.\\n\\nWorld Scientific, Singapura.\\n\\nAngel, R., et al., 2006. A Lunar Liquid Mirror Telescope (LLMT) for deep-field infrared observations near the lunar pole. Proceedings of SPIE. 6365, 62651U. https://doi. org/10.1117/12.669994.\\n\\nAngel, R., Worden, S.P., Borra, E.F., Eisenstein, D.J., Foing, B., Hickson, P., Josset, J.-L., Ma, K.B., Seddiki, O., Sivanandam, S., Thibault, S., Susante, P.V., 2008. A Cryogenic Liquid-Mirror Telescope on the Moon to Study the Early Universe. Astrophys. J. 680 (2), 1582–1594.\\n\\nBang, K.H., Kim, J.M., Kim, D.H., 2003. Experimental Study of Melt Jet Breakup in\\n\\nWater. J. Nucl. Sci. Technol. 40, 807–813. https://doi.org/10.1080/ 18811248.2003.9715422.\\n\\nBannon, E., Weed, K., Knight, J.S., Coyle, L., DeMotte, M., 2021. Efficient thermal architecture for large space telescopes. Proceedings of SPIE 11819, 118190A. https://doi.org/10.1117/12.2599230.\\n\\nBenamati, G., Sobolev, V., 2007. Handbook on Lead-bismuth Eutectic Alloy and Lead\\n\\nProperties, Materials Compatibility, Thermal-hydraulics and Technologies 2007 Edition, Chapter 2. OECD/NEA, Paris.\\n\\nFig. 8. Reflectance of solidified Ga in experiment and theory for p-polarized light and s-polarized light.\\n\\nBorra, E.F., 1982. The liquid-mirror telescope as a viable astronomical tool. J. Roy.\\n\\nAstron. Soc. Can. 76, 245–256.\\n\\nin the present study. Liquid Ga was axially rotated and solidified under a natural cooling. The parabolic shape of the Ga mirror agreed well with that based on theoretical prediction. The optical reflectance spectra on the flat surface of LMPMs (Ga, Sn, Pb, Bi, Wood’s metal and lead- bismuth eutectic) were measured by the spectrophotometer. The opti- cal reflectance for p-polarized and s-polarized lights on the surface of Ga solidified was also measured with the spectrophotometer with the polarizer. The LMPMs revealed higher optical reflectance when their surface roughness was lower and the wavelength of incident light was longer. The optical reflectance of solidified Ga which had a surface roughness of 0.049 µm was approximately 70 %. The reflectance on the surface of Ga solidified was rather high even when the wavelength was shorter due to the favorable optical characteristics.\\n\\nBorra, E.F., Seddiki, O., Angel, R., Eisenstein, D., Hickson, P., Seddon, K.R., Worden, S.P., 2007. Deposition of metal films on an ionic liquid as a basis for a lunar telescope. Nature 447, 979–981. https://doi.org/10.1038/nature05909.\\n\\nCarvill, J., 1994. Mechanical Engineer’s Data Handbook, Butterworth-Heinemann.\\n\\nOxford. https://doi.org/10.1016/C2009-0-24207-3.\\n\\nCharbonneau, D., Brown, T.M., Noyes, R.W., Gilliland, R.L., 2002. Detection of an Extrasolar Planet Atmosphere. Astrophys. J. 568, 377–384. https://doi.org/ 10.1086/338770.\\n\\nDuggin, M.J., 1969. The thermal conductivity of liquid gallium. Physics Letters A. 29,\\n\\n470–471. https://doi.org/10.1016/0375-9601(69)90528-3.\\n\\nEvans, M.E., Graham, L.D., 2020. A Flexible Lunar Architecture for Exploration (FLARE) supporting NASA’s Artemis Program. Acta Astronautica. 177, 351–372. https://doi. org/10.1016/j.actaastro.2020.07.032.\\n\\nHickson, P., Pfrommer, T., Cabanac, R., Crotts, A., Johnson, B., de Lapparent, V.,\\n\\nLanzetta, K., Gromoll, S., Mulrooney, M., Sivanandam, S., Truax, B., 2007. The Large Zenith Telescope: A 6 m Liquid-Mirror Telescope. Publ. Astron. Soc. Pac. 119 (854), 444–455.\\n\\nHinkly, S., et al., 2022. The JWST Early Release Science Program for the Direct Imaging and Spectroscopy of Exoplanetary Systems. Publ. Astron. Soc. Pac. 134, 095003 https://doi.org/10.1088/1538-3873/ac77bd.\\n\\nDeclaration of Competing Interest\\n\\nKlimas, P., et al., 2010. Lunar liquid mirror telescope: structural concepts. Proceedings of\\n\\nThe authors declare that they have no known competing financial interests or personal relationships that could have appeared to influence the work reported in this paper.\\n\\nSPIE 7732, 77322U. https://doi.org/10.1117/12.858198.\\n\\nB. Kumar et al., The zenithal 4-m International Liquid Mirror Telescope: a unique facility for supernova studies, Mon. Notices Royal Astron. Soc. 476 (2018) 2075-2085. 10.1093/mnras/sty298.\\n\\nKumari, N., Bretzfelder, J.M., Ganesh, I., Lang, A., Kring, D.A., 2022. Surface Conditions and Resource Accessibility at Potential Artemis Landing Sites 007 and 011. Planet. Sci. J 3, 224. https://doi.org/10.3847/PSJ/ac88c2.\\n\\nData availability\\n\\nLi, R., Wang, S., Wu, M., Chen, Z., Zhang, J., 2016. Numerical simulation of closest vane thermal performance in large aperture Space Solar Telescope. Appl. Therm. Eng. 103, 952–960. https://doi.org/10.1016/j.applthermaleng.2016.04.154.\\n\\nData will be made available on request.\\n\\nResultsinOptics12(2023)1004738\\n\\nE. Imaizumi et al.\\n\\nWelch, B., Coe, D., Diego, J.M., Zitrin, A., Zackrisson, E., Dimauro, P., Jim´enez-Teja, Y., Kelly, P., Mahler, G., Oguri, M., Timmes, F.X., Windhorst, R., Florian, M., de Mink, S. E., Avila, R.J., Anderson, J., Bradley, L., Sharon, K., Vikaeus, A., McCandliss, S., Bradaˇc, M., Rigby, J., Frye, B., Toft, S., Strait, V., Trenti, M., Sharma, S., Andrade- Santos, F., Broadhurst, T., 2022. A highly magnified star at redshift 6.2. Nature 603 (7903), 815–818.\\n\\nLi, K., Zheng, L., Liu, C., Li, X., Tang, Z., 2019. A prime focus corrector design for liquid\\n\\nmirror telescope. Proceedings of SPIE 10837, 108370E. https://doi.org/10.1117/ 12.2504951.\\n\\nMeng, X.-M., Han, X.-H., Wei, J.-Y., Wang, J., Cao, L.i., Qiu, Y.-L., Wu, C., Deng, J.-S., Cai, H.-B., Xin, L.-P., 2016. NUV Star Catalog from the Lunar-based Ultraviolet Telescope Survey: First Release. Res. Astron. Astrophys. 16 (11), 168.\\n\\nOlsson-steel, D., 1986. A note on the history of the liquid mirror telescope. J. Roy.\\n\\nWilliams, R.E., et al., 1996. The Hubble Deep Field: Observations, Data Reduction, and Galaxy Photometry. Astron. J. 112, 1335–1386. https://doi.org/10.1086/118105.\\n\\nAstron. Soc. Can. 80, 128–133.\\n\\nQin, C., Xu, Z., Xia, M., He, S., Zhang, J., 2020. Design and optimization of the micro- vibration isolation system for large space telescope. J. Sound Vib. 482, 115461 https://doi.org/10.1016/j.jsv.2020.115461.', metadata={'source': 'research_papers\\\\LMPMs.pdf'})]\n"
          ]
        }
      ],
      "source": [
        "print(docs)"
      ]
    },
    {
      "cell_type": "code",
      "execution_count": 16,
      "metadata": {},
      "outputs": [
        {
          "name": "stdout",
          "output_type": "stream",
          "text": [
            "<class 'langchain.schema.document.Document'>\n"
          ]
        }
      ],
      "source": [
        "print(type(docs[0]))"
      ]
    },
    {
      "cell_type": "code",
      "execution_count": 18,
      "metadata": {},
      "outputs": [
        {
          "name": "stderr",
          "output_type": "stream",
          "text": [
            "2023-09-17 10:37:14,437 - 22360 - text_splitter.py-text_splitter:181 - WARNING: Created a chunk of size 1448, which is longer than the specified 1024\n",
            "2023-09-17 10:37:14,439 - 22360 - text_splitter.py-text_splitter:181 - WARNING: Created a chunk of size 1159, which is longer than the specified 1024\n"
          ]
        }
      ],
      "source": [
        "splitter = CharacterTextSplitter(chunk_overlap=200, chunk_size=1024) \n",
        "splitted = splitter.split_documents(docs)"
      ]
    },
    {
      "cell_type": "code",
      "execution_count": 25,
      "metadata": {},
      "outputs": [],
      "source": [
        "uids, docs = zip(*[(f'doc{id+1}', doc.page_content) for id, doc in enumerate(splitted)])"
      ]
    },
    {
      "cell_type": "code",
      "execution_count": 26,
      "metadata": {},
      "outputs": [
        {
          "data": {
            "text/plain": [
              "('doc1',\n",
              " 'doc2',\n",
              " 'doc3',\n",
              " 'doc4',\n",
              " 'doc5',\n",
              " 'doc6',\n",
              " 'doc7',\n",
              " 'doc8',\n",
              " 'doc9',\n",
              " 'doc10',\n",
              " 'doc11',\n",
              " 'doc12',\n",
              " 'doc13',\n",
              " 'doc14',\n",
              " 'doc15',\n",
              " 'doc16',\n",
              " 'doc17',\n",
              " 'doc18',\n",
              " 'doc19',\n",
              " 'doc20',\n",
              " 'doc21',\n",
              " 'doc22',\n",
              " 'doc23',\n",
              " 'doc24',\n",
              " 'doc25',\n",
              " 'doc26',\n",
              " 'doc27',\n",
              " 'doc28',\n",
              " 'doc29',\n",
              " 'doc30',\n",
              " 'doc31',\n",
              " 'doc32',\n",
              " 'doc33',\n",
              " 'doc34',\n",
              " 'doc35',\n",
              " 'doc36',\n",
              " 'doc37',\n",
              " 'doc38',\n",
              " 'doc39',\n",
              " 'doc40',\n",
              " 'doc41',\n",
              " 'doc42',\n",
              " 'doc43',\n",
              " 'doc44')"
            ]
          },
          "execution_count": 26,
          "metadata": {},
          "output_type": "execute_result"
        }
      ],
      "source": [
        "uids"
      ]
    },
    {
      "cell_type": "code",
      "execution_count": 27,
      "metadata": {},
      "outputs": [
        {
          "data": {
            "text/plain": [
              "('ResultsinOptics12(2023)100473\\n\\nAvailableonline28June20232666-9501/©2023TheAuthor(s).PublishedbyElsevierB.V.ThisisanopenaccessarticleundertheCCBY-NC-NDlicense(http://creativecommons.org/licenses/by-nc-nd/4.0/).\\n\\nContents lists available at ScienceDirect\\n\\nResults in Optics\\n\\njournal homepage: www.sciencedirect.com/journal/results-in-optics\\n\\nFundamental study on optical performance of low-melting-point metal mirrors for space telescopes\\n\\nEisuke Imaizumi a, Masatoshi Kondo b,*, Katsuya Murakami a, Yutaka Hayano c, Yuichi Matsuda c a Tokyo Institute of Technology, School of Engineering, Department of Mechanical Engineering, 2-12-1, Ookayama, Meguro-ku, Tokyo 152-8550, Japan b Tokyo Institute of Technology, Institute of Innovative Research, Laboratory for Zero-Carbon Energy, 2-12-1, Ookayama, Meguro-ku, Tokyo 152-8550, Japan c National Astronomical Observatory of Japan, 2-21-1, Osawa, Mitaka-shi, Tokyo 181-8588, Japan\\n\\nA R T I C L E I N F O\\n\\nA B S T R A C T',\n",
              " 'A R T I C L E I N F O\\n\\nA B S T R A C T\\n\\nKeywords: Low-melting-point metal Liquid metal Reflectance Space telescopes',\n",
              " 'The installation of telescopes with larger primary mirrors in outer space is required for the study of the early universe. However, the shipping, assembling and maintenance of the primary mirror are technical challenges. The primary mirror made of low-melting-point metal (LMPM) enables to simplify these procedures. The rotating liquid metal surface is shaped into a parabola and solidified on the site. The technological feasibility depends on the dynamic transformation of the parabolic LMPM mirror and its optical reflectance. The dynamic trans- formation of LMPM mirror was clarified by means of experiments with liquid gallium (Ga) which has a melting point of 302.91 K. The parabolic shape of solid Ga mirror was produced by the axial rotation and the solidifi- cation. The parabolic shape agreed with the theoretical curve obtained by a physical model. The reflectance spectra on the surface of various LMPMs solidified (i.e., Ga, lead (Pb), tin (Sn), bismuth (Bi), lead-bismuth eutectic (Pb-Bi) and Wood’s metal (Bi-Pb-Sn-Cd)) were measured. The reflectance of Ga solidified was approx- imately 70 % and was not degraded in the near-infrared wavelength due to the favorable optical characteristics. The reflectance both for p-polarized and s-polarized light of Ga solidified was measured by the spectropho- ◦ tometer with the polarizer at the angle of incidence of 30 . The trend of measured reflectance agreed with theoretical prediction.',\n",
              " ', 45\\n\\n, 60\\n\\nand 75\\n\\n1. Introduction\\n\\nTelescope was recently launched, and the diameter of the primary mirror is 6.5 m. These space telescopes have made great impacts to the astronomical science such as a characterization of exoplanets (Char- bonneau et al., 2002; Hinkly, 2022) and a discovery of galaxy formation in the early universe (Williams, 1996; Welch et al., 2022) and highly- redshifted objects. The discovery can be performed by the space obser- vation in infrared wavelength. The space telescopes with larger primary mirrors are being developed, and the improvements of thermal design (Li et al., 2016; Bannon et al., 2021) and vibration isolation system (Qin et al., 2020) have been studied. However, the mirrors are extremely vulnerable and the diameter to be transported is restricted by the size space ships. Therefore, the space transportation of larger primary mir- rors provides a critical challenge from a technological viewpoint.',\n",
              " 'The lunar surface is an attractive location for long-term astronomical observations using telescopes, since night-time hours are long as approximately 14 days and the astronomical observations are not affected by the atmosphere and weather conditions. The concept of lunar telescope (LT) has been proposed in the previous study, and the LT with 15 cm aperture mirror has been operated from 2013 (Meng et al., 2016). Artemis program will promote the exploration of the moon (Kumari et al., 2022; Evans and Graham, 2020).',\n",
              " 'The exploration of the early universe is one of the important topics to clarify the evolution of the universe. The infrared observations using space telescopes located in the outer space and/or on the moon at very low temperature will play an important role in the study of the early universe. The space telescopes with larger primary mirrors have higher angular resolution and light collecting power. Hubble Space Telescope is the optical/infrared space telescope operating on the orbit of the earth, and the diameter of the primary mirror is 2.4 m. James Webb Space\\n\\nThe concept of liquid metal telescope (LMT) has been studied (Ols- son-steel, 1986; Borra, 1982), and the LMT is operated in Canada (Kumar et al., 2018; Hickson et al., 2007). The spin of liquid mercury (Hg) which has a melting point of 234.32 K forms its parabolic mirror. The aperture diameter of LMT can be increased more easily than the\\n\\nCorresponding author.',\n",
              " 'Corresponding author.\\n\\nE-mail addresses: kondo.m.ai@m.titech.ac.jp (M. Kondo), y.hayano@nao.ac.jp (Y. Hayano), yuichi.matsuda@nao.ac.jp (Y. Matsuda).\\n\\nhttps://doi.org/10.1016/j.rio.2023.100473 Received 21 March 2023; Received in revised form 11 May 2023; Accepted 26 June 2023\\n\\nResultsinOptics12(2023)1004732\\n\\nE. Imaizumi et al.',\n",
              " 'https://doi.org/10.1016/j.rio.2023.100473 Received 21 March 2023; Received in revised form 11 May 2023; Accepted 26 June 2023\\n\\nResultsinOptics12(2023)1004732\\n\\nE. Imaizumi et al.\\n\\ntelescopes with solid mirrors (Li et al., 2019), since the LMT is not restricted by the technical issues of on-site assembling with high preci- sion and space transportation as explained in next chapter. The opera- tion of LMT on the lunar surface (Klimas, 2010) enables to observe distant objects which are not followed up with ground-based telescopes (Angel, 2006; Angel et al., 2008). However, the LMT cannot point at off- zenith (out-of-plane tip/tilt) angles since the liquid mirror cannot be tilted. The Zenith program of the Defense Advanced Research Projects Agency (DARPA) is going to investigate and develop technologies to facilitate demonstration of LMT and liquid mirror that can be pointed at off-zenith (out-of-plane tip/tilt) angles.',\n",
              " 'LMPM layer can reduce the total weight of the mirror which is major driver of the shipping cost.\\n\\nThe building of space telescopes with the parabolic LMPM mirror is rather simple. The LMPM melted is placed on the shell assembled, and axial rotation of the shell with the LMPM melted shapes the parabolic mirror on the site. The heat and electricity are required only in the shaping procedure of the parabolic mirror. High precision is not required for the assembling of the shell with support system, though it is required for the assembling of segmented mirrors. The transformation on the orbit of the earth is also possible by the use of thrust-for-gravity. The Lunar Liquid Mirror Telescope (LLMT) with a silver coated ionic liquid was recently proposed (Borra et al., 2007). The LMPM mirror revealed similar reflectivity to the LLMT without the deposition of a reflective metal on the surface as described in a latter chapter.',\n",
              " 'The present paper proposes a concept of large primary solid mirror usable for space telescopes, which is made of low-melting-point metal (LMPM). This concept enables the on-site transformation of solid mirror by the axial rotation and solidification of liquid metal on the moon and/ or in the space. The LMPM mirror can be operated at very low tem- perature for infrared observations as the same as conventional solid mirrors. The LMPM mirror can observe the whole sky since the obser- vation angle of the mirror is changeable due to the tilt of the mirror. The LMPM mirror is assembled on the site after the shipping to the space and the moon in the parts of liquid metal filled in the container and the support system disassembled. Therefore, the size of LMPM mirror is not limited by the size of space ships as the same as the LMT. The LMPM mirror can be applied also for robust final optics in a laser inertial fusion energy (IFE) power plant, since it can be easily repaired when the mirror has a cumulative damage via neutron irradiation during the reactor operation. However, the reflective performance of the solidified LMPMs is not made clear so far.',\n",
              " 'The telescope with LMPM mirror is operated in the same way as conventional solid mirrors on the site as shown in Fig. 1(b). Neither heating or rotating are not required during the operation of the LMPM mirror. The LMPM mirror can be tilted, though liquid mirror cannot be tilted basically. The melting of the mirror by the radiation heat from the sun must be eliminated during the operation of the telescope. The ra- diation heat from the sun is needed to be insulated by a sun shield. The LMPM mirror can be operated at very low temperature for the infrared observations, which is required for the study on the early universe.',\n",
              " 'The focal length of the LMPM mirror is adjustable by changing the axial rotation speed during the solidification process. The parabolic mirror having a longer focal length is obtained under a slower rotational speed, and that having a shorter focal length is obtained under a faster rotational speed. The mirror with a longer focal length enables to observe an enlarged view of a narrow field. The mirror with a shorter focal length enables to observe wider view field brightly. Therefore, the transformable LMPM mirror enables to observe astronomical objects at various magnification by changing the focal length.\\n\\nThe purpose of the present study is to clarify the reflectance of LMPM mirrors, which are fabricated by natural cooling. The dynamic trans- formation of parabolic LMPM mirror by an axial rotation and solidifi- cation was also studied.',\n",
              " 'The primary mirror located in space telescopes is irradiated with cosmic rays, and the mirror is then assumed to be damaged and degraded. The LMPM mirror can be easily repaired according to the melting and solidification under the rotational condition. The mainte- nance of the LMPM mirror is simpler than that of solid mirrors.\\n\\n2. Concept of low-melting-point metal mirrors usable for space telescopes',\n",
              " '2. Concept of low-melting-point metal mirrors usable for space telescopes\\n\\nTable 1 presents the major properties of candidate LMPMs (Carvill, 1994; Duggin, 1969; Bang et al., 2003; Benamati and Sobolev, 2007). Their melting-points are in the range between 302.9 K and 600.6 K. Fig. 1 shows the conceptual design of the LMPM mirrors. The LMPM melted is filled in the simple shell and the shell is axially rotated at a constant angular velocity. The liquid LMPM transforms into the para- bolic shape by the axial rotation as the same as the shaping procedure of liquid mirrors, and the parabolic shape is kept by the cooling and so- lidification as indicated in Fig. 1(a). This shaping procedure is per- formed on the site. Here, the parabolic shape was determined by the inertial and gravitational forces as explained in a latter chapter.\\n\\n3. Experimental conditions\\n\\n3.1. Dynamic transformation and solidification of liquid LMPM into parabolic shape',\n",
              " '3. Experimental conditions\\n\\n3.1. Dynamic transformation and solidification of liquid LMPM into parabolic shape\\n\\nThe dynamic transformation of parabolic LMPM mirrors was inves- tigated by means of the experiments with the apparatus shown in Fig. 2. The experiments were performed in an air atmosphere at atmospheric pressure. The liquid gallium (Ga) which has a melting point of 302.9 K (Table 1) was poured into the crucible (316L) at approximately 330 K. The crucible was rotated axially by the motor. The rotational speed was measured with a transmission-type photosensor. The rotational speeds were 50 rpm, 100 rpm, 150 rpm and 200 rpm. The liquid Ga was so- lidified by natural cooling at room temperature under the axial rotation. The surface height of the Ga solidified was measured by the distance sensor which was installed in the apparatus.',\n",
              " 'The LMPM mirror can be scaled up without the restriction of the shipping and assembling as the same as the liquid mirror. The LMPM mirror is separately shipped to the space and/or the moon in the parts of LMPM filled in the container and the support system disassembled. The shell of the mirror is also shipped in the small parts, and they were assembled on the site. Therefore, the diameter of the mirror to be transported is not limited by the size of space ships. The thinning of\\n\\nTable 1 Major features of low-melting-point metals (Carvill, 1994; Duggin, 1969; Bang et al., 2003; Benamati and Sobolev, 2007).\\n\\n316L austenitic steel\\n\\nLow-melting-point metals\\n\\nWood’s metal*\\n\\nLBE**\\n\\nPb\\n\\nBi\\n\\nSn\\n\\nGa\\n\\n1644–1673 7.98 500 16\\n\\nMelting point (K) Density (g/cm3) Specific heat (J/kg/K) Thermal conductivity (W/m/K)\\n\\n343.2 9.67 168 19\\n\\n398.2 10.57 147 9.6\\n\\n600.6 11.36 130 35\\n\\n544.6 9.75 142 8\\n\\n505.1 7.37 226 67\\n\\n302.9 5.90 370 29',\n",
              " '343.2 9.67 168 19\\n\\n398.2 10.57 147 9.6\\n\\n600.6 11.36 130 35\\n\\n544.6 9.75 142 8\\n\\n505.1 7.37 226 67\\n\\n302.9 5.90 370 29\\n\\nChemical composition of Wood’s metal: 50Bi-24Pb-14Sn-12Cd (wt %). *Chemical composition of lead–bismuth eutectic (LBE): 44.5Pb-55.5Bi (wt %).\\n\\nResultsinOptics12(2023)1004733\\n\\nE. Imaizumi et al.\\n\\nFig. 1. Conceptual design of low-melting-point metal (LMPM) mirrors for space telescopes: (a) Formation of parabolic shape by axial rotation of liquid metal, (b) Parabolic mirror formed after solidification under axial rotation and natural cooling.\\n\\nFig. 2. Experimental apparatus to investigate transformation behavior of parabolic shape with Ga.\\n\\n3.2. Specimen preparation of low-melting-point metals for optical reflectance measurements',\n",
              " 'Fig. 2. Experimental apparatus to investigate transformation behavior of parabolic shape with Ga.\\n\\n3.2. Specimen preparation of low-melting-point metals for optical reflectance measurements\\n\\ncooling at a static condition. The specimens of 316L austenitic steel, Pb, Bi and Sn were embedded in resin for the mechanical polish. Their surface were sequentially polished by SiC papers of #500, #1200, #2000 and #4000 under wet condition (i.e., with water as a lubricant). The surface of some specimens was finished with colloidal silica (Par- ticle diameter: 0.25 µm) or water-based diamond suspension (Diamond size: 0.25 µm). The arithmetic mean surface roughness of all the speci- mens was measured with a 3D scanning laser microscope (SFT-4500, SHIMADZU CORPORAION, Kyoto-shi, Kyoto, Japan). The surface of solidified Wood’s metal was observed with SEM (VE-9800, KEYENCE, Osaka-shi, Osaka, Japan). Table 3 presents arithmetic mean surface roughness of solidified LMPMs. Table 4 presents the variation of',\n",
              " 'Table 2 presents the list of specimens used for the reflectance mea- surements. The specimens of solidified LMPMs (i.e., Wood’s metal, lead–bismuth eutectic (LBE), Pb, Bi, Sn and Ga) were prepared. The liquid LMPMs were melted by a plate heater and solidified under natural\\n\\nTable 2 List of specimens used for measurement of optical reflectance.\\n\\nSurface observation and optical reflectance measurement\\n\\nAfter polished\\n\\nAfter solidification (Static condition)\\n\\n–\\n\\n316L austenitic steel Wood’s metal LBE Pb Bi Sn Ga\\n\\nYes Yes Yes Yes Yes Yes No\\n\\nTable 3 Arithmetic mean surface roughness of low-melting-point metals solidified under natural cooling at static condition (Unit: µm).\\n\\nYes Yes Yes Yes Yes Yes\\n\\nWood’s metal\\n\\nLBE\\n\\nPb\\n\\nBi\\n\\nSn\\n\\nGa\\n\\n0.748\\n\\n5.636\\n\\n0.074\\n\\n0.534\\n\\n0.072\\n\\n0.049\\n\\nResultsinOptics12(2023)1004734\\n\\nE. Imaizumi et al.\\n\\n4. Results and discussions\\n\\nTable 4 Arithmetic mean surface roughness of metal specimens after various polishing procedures (Unit: µm).\\n\\n4.1. Dynamic formation of parabolic LMPM mirror\\n\\nPb',\n",
              " '4. Results and discussions\\n\\nTable 4 Arithmetic mean surface roughness of metal specimens after various polishing procedures (Unit: µm).\\n\\n4.1. Dynamic formation of parabolic LMPM mirror\\n\\nPb\\n\\nBi\\n\\nSn\\n\\n316L austenitic steel\\n\\nThe parabolic surface of liquid Ga was shaped under the axial rota- tion by the equilibrium of gravitational and centrifugal forces at the mass point in a tangential direction as shown in Fig. 4(a). The theoretical curve of the parabolic surface is expressed as follows:.\\n\\nSiC#1200 SiC#2000 SiC#4000 Colloidal silica Diamond suspension\\n\\n0.273 0.106 0.058 – –\\n\\n0.09 0.105 0.033 0.031 0.021\\n\\n0.112 0.086 0.020 0.041 0.018\\n\\n0.119 0.050 0.011 0.031 –\\n\\nω2 2g\\n\\nx2\\n\\ny =\\n\\n(1)\\n\\narithmetic mean surface roughness of the LMPM specimens after the various polishing procedures. The surface roughness was controlled in the range between 0.273 µm and 0.011 µm. The reflectance of specimens which had various surface roughness was measured to clarify the effect of surface roughness on the reflectance.',\n",
              " 'where ω [rad/s] is angular velocity, g [m/s2] is gravitational accel- eration and χ [m] is a horizontal distance from the center. The liquid Ga was naturally cooled and solidified under the rotating condition. The solid parabolic mirror was then obtained as shown in Fig. 4(b and c). The solid green line is approximate curve obtained by the curve fitting as quadratic function of surface shape formed in the experiment. This fitting curve was obtained for the experimental values in the range of 0< x <10 mm to eliminate the effect of deformation around the inner wall of the crucible (i.e., x=±13) possibly due to the surface tension of liquid Ga. The meniscus of liquid Ga was formed around the inner wall of the crucible in the rotating condition.\\n\\n3.3. Measurement of reflectance on surface of low-melting-point metal specimens',\n",
              " '3.3. Measurement of reflectance on surface of low-melting-point metal specimens\\n\\nThe reflectance of solidified LMPM specimens was evaluated by relative specular reflectance measurement with the spectrophotometer (SolidSpec-3700, SHIMADZU CORPORATION, Kyoto-shi, Kyoto, Japan) as shown in Fig. 3(a), which is installed in National Astronomical Ob- servatory of Japan (NAOJ). The reflectance of the LMPM specimens was based on the intensity ratio between the incident light and the light detected by the detector. The wavelength of incident light was varied in the range between ultraviolet and near infrared (300–2000 nm). The ◦ angle of incidence was 15 in all the measurements of optical reflectance.',\n",
              " 'The surface shape of Ga solidified at the rotational speed of 50 rpm did not agree well with the parabolic curve (blue solid line) given by Eq. (1) as shown in Fig. 4(b). The surface height around the inner wall of the crucible in the experiment was higher than that of the curve given by Eq. (1). This difference was caused by the upward force applied to liquid Ga by the formation of meniscus.\\n\\nThe surface shape of Ga solidified at the rotational speed of 150 rpm agreed well with the parabolic curve (blue solid line) given by Eq. (1) as shown in Fig. 4(c). However, the surface height of Ga solidified around the inner wall of the crucible was lower than the parabolic curve. This difference was caused by the downward force applied to liquid Ga for the formation of meniscus.',\n",
              " 'The reflectance of the specimens which had various surface rough- ness (Table 4) was also measured. Fig. 3(b and c) show the examples of the specimens. A lot of needles were recognized on the surface of so- lidified Wood’s metal specimen as shown in Fig. 3(c) according the precipitation of intermetallic compounds during the solidification procedure.\\n\\nThe root mean squared error (RMSE) between the surface shape obtained in the experiment and the theory was estimated in the range of 0< x <10 mm. RMSEs in the experiment at the rotational speeds of 50 rpm and 150 rpm was 148 μm and 105 μm, respectively. The shape of rotating liquid Ga around the inner wall of the crucible was mainly determined by centrifugal force and the formation of meniscus. The centrifugal force was smaller when the rotational speed was smaller. Therefore, the effect of meniscus on the shape was more clearly recog- nized when the centrifugal force was smaller at the lower rotational speed.',\n",
              " 'The optical reflectance depends on the angle of incidence due to the polarization effect. The measurement of polarized optical reflectance on the surface of solidified Ga was then performed both for p-polarized and s-polarized lights. The vibration direction of p-polarized light is parallel to the plane of incidence. On the other hand, the vibration direction of s- polarized light is vertical to the plane of incidence. The optical reflec- tance for p-polarized and s-polarized lights on solidified Ga was measured with the spectrophotometer with the polarizer. The wave- length of incident light was 689 nm, and the angles of incidence were 30\\n\\n, 45\\n\\n, 60\\n\\nand 75\\n\\nin the measurements.\\n\\nThese results indicate that the parabolic mirrors can be shaped by the solidification of rotating liquid LMPM. The effect of the solidification procedure on the production of parabolic shape was negligibly small,',\n",
              " 'Fig. 3. Reflectance measurements of metal specimens: (a) Spectrophotometer used for reflectance measurements of metal specimens, (b) Sn specimen polished with SiC papers and diamond paste (Surface roughness: 0.018 µm), (c) Wood’s metal specimen solidified under natural cooling at static condition (Surface roughness: 0.748 µm),\\n\\nResultsinOptics12(2023)1004735\\n\\nE. Imaizumi et al.\\n\\nFig. 4. Parabolic shape of Ga obtained in experiments: (a) Parabolic curve determined by gravitational and centrifugal forces applied to liquid surface, (b) Parabolic shape of solidified Ga at rotational speed of 50 rpm, (c) Parabolic shape of solidified Ga at rotational speed of 150 rpm.\\n\\n[\\n\\n]\\n\\nthough the effect of meniscus on the parabolic shape was recognized around the inner wall of the liquid crucible. The effect of meniscus on the parabolic shape can be eliminated when the height of the shell is low and the diameter of the shell is large.\\n\\n(\\n\\n)2\\n\\n2πσ λ\\n\\nS = exp\\n\\n(cid:0)\\n\\n(2)',\n",
              " '(\\n\\n)2\\n\\n2πσ λ\\n\\nS = exp\\n\\n(cid:0)\\n\\n(2)\\n\\nwhere σ[nm] is root mean square surface error and λ[nm] is the wave- length of light. σ is given as the surface roughness of solidified Ga (i.e., 0.049 µm) in the present work. The Strehl ratio of Ga solidified is then estimated as 95.9 % at the wavelength of 1500 nm by Eq. (2). The Strehl ratio higher than 80 % is given as ideal mirror. This Strehl ratio of Ga solidified is sufficiently high when the wavelength of the incident light is in the near-infrared range.\\n\\n4.2. Reflectance of low-melting-point metal specimens\\n\\n4.2.1. Effect of surface roughness on reflectance of LMPMs\\n\\nFig. 5(a) shows the surface condition of 316L specimen which was sequentially polished by SiC papers of #500, #1200, #2000 and #4000. The surface roughness was 0.011 µm as presented in Table 4. The re- flected image of the mark drawn on the white plate was clearly recog- nized on the specimen surface.',\n",
              " 'Fig. 5(b) shows the surface conditions of Ga solidified under the rotated condition where the rotational speed was 50 rpm. The mark drawn on the white plate was reflected well on the surface. Fig. 5(c) shows the surface conditions of Bi specimen which was naturally cooled and solidified at a static condition. The surface roughness was 0.534 µm. The reflected image of the mark drawn on the white plate was not\\n\\nThe surface roughness of Ga solidified was approximately 0.049 µm. The Strehl ratio which indicates the convergence ratio in the image field of an optical system can be expressed as follows:\\n\\nFig. 5. Surface conditions of metal specimens: (a) Surface of 316L austenitic steel sequentially polished by SiC papers of #500, #1200, #2000, and #4000 (Arithmetic mean surface roughness: 0.011 µm), (b) Surface of Ga solidified under axial rotation (Rotational speed : 50 rpm), (c) Surface of solidified Bi, (d) Surface of solidified Wood’s metal and its SEM image (SEM: Scanning Electron Microscope).',\n",
              " 'ResultsinOptics12(2023)1004736\\n\\nE. Imaizumi et al.\\n\\nrecognized on the surface at all, since the surface condition was rough due to the precipitation of Bi crystals. Fig. 5(d) shows the surface con- ditions of Wood’s metal specimen which was naturally cooled and so- lidified. The surface roughness was 0.748 µm. The reflected image of the mark drawn on the white plate was not recognized at all, since the surface condition was rough due to the precipitation of intermetallic compounds. The surface roughness of Ga solidified was 0.049 µm, and this surface roughness was the smallest in all the solidified specimens as presented in Table 3.\\n\\n(n (cid:0) 1)2 + κ2 (n + 1)2 + κ2\\n\\nR =\\n\\n(4)',\n",
              " '(n (cid:0) 1)2 + κ2 (n + 1)2 + κ2\\n\\nR =\\n\\n(4)\\n\\nwhere R is reflectance, n is refractive index, and κ is extinction co- efficient. Here, the incident light is vertically irradiated onto the metal surface. The value of optical constants, n and κ, depend on the wave- length of light. The theoretical reflectance of Ga was estimated from Eq. (4) with the optical constants of Ga provided in the previous study (Adachi, 2012). The theoretical reflectance is shown with vacant circles in Fig. 6(b), and the trend agrees well with the reflectance measured in the experiment. The reflectance of Ga does not decrease even at a shorter wavelength in theory. The reflectance of Ga is not affected even when the wavelength is short, since Ga has favorable optical characteristics. The Ga solidified can be a promising material of the LMPM mirror usable for the astronomical science, since it has higher optical reflectance than the other LMPMs in the near-infrared wavelength based on the present results.',\n",
              " 'Fig. 6 shows the reflectance spectra of the LMPM surface in the wavelength range between ultraviolet and near infrared (300–2000 nm) measured in the experiment. The LMPMs of Sn, Bi, Pb and 316L which were sequentially polished by SiC papers of #500, #1200, #2000 and #4000 revealed smaller reflectance when the wavelength of incident light was shorter as shown in Fig. 6(a). The reflectance of Ga solidified was higher than the other LMPMs solidified. The reflectance of Sn, Pb, Bi, Wood’s metal and LBE specimens solidified was lower than the specimen polished as shown in Fig. 6(b). The reason of the low optical reflectance was due to the precipitation of the crystals and intermetallic compounds on their surface during the cooling down and solidification procedures.\\n\\n4.2.3. Reflectance of Ga solidified for polarized light',\n",
              " '4.2.3. Reflectance of Ga solidified for polarized light\\n\\nThe reflectance of Ga solidified was measured for p-polarized and s- polarized lights, and the experimenta; result was shown as plots in Fig. 8. The optical reflectance for p-polarized and s-polarized lights (i.e., Rp and Rs) is theoretically expressed as follows:\\n\\nFig. 7(a and b) show the relation between reflectance and surface roughness of the LMPM specimens at the wavelengh of 600 nm and 1500 nm, respectively. The linear approximation of the relationship was made by least-squares method and shown with dotted, broken and solid lines in Fig. 7. The reflectance of LMPM specimens was higher when their surface roughness was lower.\\n\\n⃒ ⃒ ⃒NGa ⃒ ⃒ ⃒NGa\\n\\n⃒ ⃒ ⃒ ⃒ ⃒ ⃒\\n\\n̅̅̅̅̅̅̅̅̅̅̅̅̅̅̅̅̅̅̅̅̅̅̅̅̅̅̅̅̅̅̅̅̅̅̅ 2sin2ϕ 2 (cid:0) Nair NGa ̅̅̅̅̅̅̅̅̅̅̅̅̅̅̅̅̅̅̅̅̅̅̅̅̅̅̅̅̅̅̅̅̅̅̅ 2sin2ϕ 2 (cid:0) Nair NGa\\n\\n√\\n\\n2\\n\\n2cosϕ (cid:0) Nair\\n\\nRp =\\n\\n(5)\\n\\n√\\n\\n2\\n\\n2cosϕ + Nair\\n\\n⃒ ⃒ ⃒Naircosϕ (cid:0) ⃒ ⃒ ⃒Naircosϕ +\\n\\n⃒ ⃒ ⃒ ⃒ ⃒ ⃒\\n\\n√',\n",
              " '√\\n\\n2\\n\\n2cosϕ (cid:0) Nair\\n\\nRp =\\n\\n(5)\\n\\n√\\n\\n2\\n\\n2cosϕ + Nair\\n\\n⃒ ⃒ ⃒Naircosϕ (cid:0) ⃒ ⃒ ⃒Naircosϕ +\\n\\n⃒ ⃒ ⃒ ⃒ ⃒ ⃒\\n\\n√\\n\\n̅̅̅̅̅̅̅̅̅̅̅̅̅̅̅̅̅̅̅̅̅̅̅̅̅̅̅̅̅̅̅̅̅̅̅ 2sin2ϕ 2 (cid:0) Nair NGa ̅̅̅̅̅̅̅̅̅̅̅̅̅̅̅̅̅̅̅̅̅̅̅̅̅̅̅̅̅̅̅̅̅̅̅ 2sin2ϕ 2 (cid:0) Nair NGa\\n\\n4.2.2. Effect of wavelength of light on optical reflectance of LMPMs\\n\\n2\\n\\nThe energy of photon becomes larger when the wavelength of inci-\\n\\nRs =\\n\\n(6)\\n\\n√\\n\\n2\\n\\ndent light is shorter as formulated in Eq. (3):\\n\\nhc λ\\n\\nE =\\n\\n(3)\\n\\nwhere NGa is complex refractive index of solid Ga, Nair is refractive index of air and ϕ[deg] is angle of incidence. Complex refractive index of solid Ga is expressed as follows.',\n",
              " 'hc λ\\n\\nE =\\n\\n(3)\\n\\nwhere NGa is complex refractive index of solid Ga, Nair is refractive index of air and ϕ[deg] is angle of incidence. Complex refractive index of solid Ga is expressed as follows.\\n\\nwhere E [eV] is energy of photon, h [Js] is Planck constant, c [m/s] is speed of light and λ [nm] is wavelength of light. The photon which has larger energy can easily penetrate into the matrix of metal through the surface. The photon which penetrates into the metal is not specularly reflected on the surface, and it can be refracted and reflected inside the metal matrix. The photon cannot be detected by the detector of spec- trophotometer in the experiment, and the optical reflectance became lower. Thus, the reflectance of the LMPMs at shorter wavelength can be lower.\\n\\nNGa = nGa + iκGa\\n\\n(7)',\n",
              " 'NGa = nGa + iκGa\\n\\n(7)\\n\\nwhere nGa and κGa are refractive index and extinction coefficient of solid Ga, respectively. The optical constants of Ga (nGa and κGa) are available in the previous literature (Adachi, 2012). The theoretical reflectance of solid Ga for p-polarized light is shown with dotted line and that for s-polarized light is shown with broken lines in Fig. 8. The reflectance measured in the experiment agreed well with that estimated in theory.\\n\\nThe reflectance of Ga solidified was higher than that of other LMPMs solidified as shown in Fig. 6(b) and Fig. 7(b). The reflectance didn’t decrease when the wavelength of incident light was shorter as shown in Fig. 6(b). The reflectance of metals is theoretically expressed as follows:\\n\\n5. Conclusions\\n\\nThe concept of solid LMPM mirrors for space telescope was proposed\\n\\nFig. 6. Optical reflectance spectra obtained by measurement with LMPM specimens : (a) Polished surface of metals, (b) Naturally solidified surface of LMPMs.\\n\\nResultsinOptics12(2023)1004737',\n",
              " 'Fig. 6. Optical reflectance spectra obtained by measurement with LMPM specimens : (a) Polished surface of metals, (b) Naturally solidified surface of LMPMs.\\n\\nResultsinOptics12(2023)1004737\\n\\nE. Imaizumi et al.\\n\\nFig. 7. Relationship between surface roughness and optical reflectance of LMPMs: (a) wavelength of incident light was 600 nm and (b) wavelength of incident light was 1500 nm.\\n\\nAcknowledgement\\n\\nThis research was supported by the grant of Joint Research by the National Institutes of Natural Sciences (NINS). (NINS program No, 01112204).\\n\\nReferences\\n\\nAdachi, S., 2012. The Handbook on Optical Constants of Metals In Tables and Figures.\\n\\nWorld Scientific, Singapura.\\n\\nAngel, R., et al., 2006. A Lunar Liquid Mirror Telescope (LLMT) for deep-field infrared observations near the lunar pole. Proceedings of SPIE. 6365, 62651U. https://doi. org/10.1117/12.669994.',\n",
              " 'Angel, R., et al., 2006. A Lunar Liquid Mirror Telescope (LLMT) for deep-field infrared observations near the lunar pole. Proceedings of SPIE. 6365, 62651U. https://doi. org/10.1117/12.669994.\\n\\nAngel, R., Worden, S.P., Borra, E.F., Eisenstein, D.J., Foing, B., Hickson, P., Josset, J.-L., Ma, K.B., Seddiki, O., Sivanandam, S., Thibault, S., Susante, P.V., 2008. A Cryogenic Liquid-Mirror Telescope on the Moon to Study the Early Universe. Astrophys. J. 680 (2), 1582–1594.\\n\\nBang, K.H., Kim, J.M., Kim, D.H., 2003. Experimental Study of Melt Jet Breakup in\\n\\nWater. J. Nucl. Sci. Technol. 40, 807–813. https://doi.org/10.1080/ 18811248.2003.9715422.\\n\\nBannon, E., Weed, K., Knight, J.S., Coyle, L., DeMotte, M., 2021. Efficient thermal architecture for large space telescopes. Proceedings of SPIE 11819, 118190A. https://doi.org/10.1117/12.2599230.\\n\\nBenamati, G., Sobolev, V., 2007. Handbook on Lead-bismuth Eutectic Alloy and Lead',\n",
              " 'Benamati, G., Sobolev, V., 2007. Handbook on Lead-bismuth Eutectic Alloy and Lead\\n\\nProperties, Materials Compatibility, Thermal-hydraulics and Technologies 2007 Edition, Chapter 2. OECD/NEA, Paris.\\n\\nFig. 8. Reflectance of solidified Ga in experiment and theory for p-polarized light and s-polarized light.\\n\\nBorra, E.F., 1982. The liquid-mirror telescope as a viable astronomical tool. J. Roy.\\n\\nAstron. Soc. Can. 76, 245–256.',\n",
              " 'Borra, E.F., 1982. The liquid-mirror telescope as a viable astronomical tool. J. Roy.\\n\\nAstron. Soc. Can. 76, 245–256.\\n\\nin the present study. Liquid Ga was axially rotated and solidified under a natural cooling. The parabolic shape of the Ga mirror agreed well with that based on theoretical prediction. The optical reflectance spectra on the flat surface of LMPMs (Ga, Sn, Pb, Bi, Wood’s metal and lead- bismuth eutectic) were measured by the spectrophotometer. The opti- cal reflectance for p-polarized and s-polarized lights on the surface of Ga solidified was also measured with the spectrophotometer with the polarizer. The LMPMs revealed higher optical reflectance when their surface roughness was lower and the wavelength of incident light was longer. The optical reflectance of solidified Ga which had a surface roughness of 0.049 µm was approximately 70 %. The reflectance on the surface of Ga solidified was rather high even when the wavelength was shorter due to the favorable optical characteristics.',\n",
              " 'Borra, E.F., Seddiki, O., Angel, R., Eisenstein, D., Hickson, P., Seddon, K.R., Worden, S.P., 2007. Deposition of metal films on an ionic liquid as a basis for a lunar telescope. Nature 447, 979–981. https://doi.org/10.1038/nature05909.\\n\\nCarvill, J., 1994. Mechanical Engineer’s Data Handbook, Butterworth-Heinemann.\\n\\nOxford. https://doi.org/10.1016/C2009-0-24207-3.\\n\\nCharbonneau, D., Brown, T.M., Noyes, R.W., Gilliland, R.L., 2002. Detection of an Extrasolar Planet Atmosphere. Astrophys. J. 568, 377–384. https://doi.org/ 10.1086/338770.\\n\\nDuggin, M.J., 1969. The thermal conductivity of liquid gallium. Physics Letters A. 29,\\n\\n470–471. https://doi.org/10.1016/0375-9601(69)90528-3.\\n\\nEvans, M.E., Graham, L.D., 2020. A Flexible Lunar Architecture for Exploration (FLARE) supporting NASA’s Artemis Program. Acta Astronautica. 177, 351–372. https://doi. org/10.1016/j.actaastro.2020.07.032.\\n\\nHickson, P., Pfrommer, T., Cabanac, R., Crotts, A., Johnson, B., de Lapparent, V.,',\n",
              " 'Hickson, P., Pfrommer, T., Cabanac, R., Crotts, A., Johnson, B., de Lapparent, V.,\\n\\nLanzetta, K., Gromoll, S., Mulrooney, M., Sivanandam, S., Truax, B., 2007. The Large Zenith Telescope: A 6 m Liquid-Mirror Telescope. Publ. Astron. Soc. Pac. 119 (854), 444–455.\\n\\nHinkly, S., et al., 2022. The JWST Early Release Science Program for the Direct Imaging and Spectroscopy of Exoplanetary Systems. Publ. Astron. Soc. Pac. 134, 095003 https://doi.org/10.1088/1538-3873/ac77bd.\\n\\nDeclaration of Competing Interest\\n\\nKlimas, P., et al., 2010. Lunar liquid mirror telescope: structural concepts. Proceedings of\\n\\nThe authors declare that they have no known competing financial interests or personal relationships that could have appeared to influence the work reported in this paper.\\n\\nSPIE 7732, 77322U. https://doi.org/10.1117/12.858198.\\n\\nB. Kumar et al., The zenithal 4-m International Liquid Mirror Telescope: a unique facility for supernova studies, Mon. Notices Royal Astron. Soc. 476 (2018) 2075-2085. 10.1093/mnras/sty298.',\n",
              " 'B. Kumar et al., The zenithal 4-m International Liquid Mirror Telescope: a unique facility for supernova studies, Mon. Notices Royal Astron. Soc. 476 (2018) 2075-2085. 10.1093/mnras/sty298.\\n\\nKumari, N., Bretzfelder, J.M., Ganesh, I., Lang, A., Kring, D.A., 2022. Surface Conditions and Resource Accessibility at Potential Artemis Landing Sites 007 and 011. Planet. Sci. J 3, 224. https://doi.org/10.3847/PSJ/ac88c2.\\n\\nData availability\\n\\nLi, R., Wang, S., Wu, M., Chen, Z., Zhang, J., 2016. Numerical simulation of closest vane thermal performance in large aperture Space Solar Telescope. Appl. Therm. Eng. 103, 952–960. https://doi.org/10.1016/j.applthermaleng.2016.04.154.\\n\\nData will be made available on request.\\n\\nResultsinOptics12(2023)1004738\\n\\nE. Imaizumi et al.',\n",
              " 'Data will be made available on request.\\n\\nResultsinOptics12(2023)1004738\\n\\nE. Imaizumi et al.\\n\\nWelch, B., Coe, D., Diego, J.M., Zitrin, A., Zackrisson, E., Dimauro, P., Jim´enez-Teja, Y., Kelly, P., Mahler, G., Oguri, M., Timmes, F.X., Windhorst, R., Florian, M., de Mink, S. E., Avila, R.J., Anderson, J., Bradley, L., Sharon, K., Vikaeus, A., McCandliss, S., Bradaˇc, M., Rigby, J., Frye, B., Toft, S., Strait, V., Trenti, M., Sharma, S., Andrade- Santos, F., Broadhurst, T., 2022. A highly magnified star at redshift 6.2. Nature 603 (7903), 815–818.\\n\\nLi, K., Zheng, L., Liu, C., Li, X., Tang, Z., 2019. A prime focus corrector design for liquid\\n\\nmirror telescope. Proceedings of SPIE 10837, 108370E. https://doi.org/10.1117/ 12.2504951.\\n\\nMeng, X.-M., Han, X.-H., Wei, J.-Y., Wang, J., Cao, L.i., Qiu, Y.-L., Wu, C., Deng, J.-S., Cai, H.-B., Xin, L.-P., 2016. NUV Star Catalog from the Lunar-based Ultraviolet Telescope Survey: First Release. Res. Astron. Astrophys. 16 (11), 168.',\n",
              " 'Olsson-steel, D., 1986. A note on the history of the liquid mirror telescope. J. Roy.\\n\\nWilliams, R.E., et al., 1996. The Hubble Deep Field: Observations, Data Reduction, and Galaxy Photometry. Astron. J. 112, 1335–1386. https://doi.org/10.1086/118105.\\n\\nAstron. Soc. Can. 80, 128–133.\\n\\nQin, C., Xu, Z., Xia, M., He, S., Zhang, J., 2020. Design and optimization of the micro- vibration isolation system for large space telescope. J. Sound Vib. 482, 115461 https://doi.org/10.1016/j.jsv.2020.115461.')"
            ]
          },
          "execution_count": 27,
          "metadata": {},
          "output_type": "execute_result"
        }
      ],
      "source": [
        "docs"
      ]
    },
    {
      "cell_type": "code",
      "execution_count": 28,
      "metadata": {},
      "outputs": [],
      "source": [
        "client = chromadb.Client()                                     \n",
        "collection = client.create_collection(\"sample_collection\") \n",
        "collection.add(documents=list(docs), ids=list(uids))        "
      ]
    },
    {
      "cell_type": "code",
      "execution_count": 33,
      "metadata": {},
      "outputs": [],
      "source": [
        "def knowledgebase(query):\n",
        "    results = collection.query(query_texts=[query], n_results=3)  \n",
        "    print(results)\n",
        "    chromadb_output = \"\\n\".join(results['documents'][0])\n",
        "    return chromadb_output\n",
        "\n"
      ]
    },
    {
      "cell_type": "code",
      "execution_count": 34,
      "metadata": {},
      "outputs": [
        {
          "name": "stdout",
          "output_type": "stream",
          "text": [
            "{'ids': [['doc22', 'doc36', 'doc19']], 'distances': [[0.887841522693634, 0.9419827461242676, 0.959404706954956]], 'metadatas': [[None, None, None]], 'embeddings': None, 'documents': [['3.3. Measurement of reflectance on surface of low-melting-point metal specimens\\n\\nThe reflectance of solidified LMPM specimens was evaluated by relative specular reflectance measurement with the spectrophotometer (SolidSpec-3700, SHIMADZU CORPORATION, Kyoto-shi, Kyoto, Japan) as shown in Fig. 3(a), which is installed in National Astronomical Ob- servatory of Japan (NAOJ). The reflectance of the LMPM specimens was based on the intensity ratio between the incident light and the light detected by the detector. The wavelength of incident light was varied in the range between ultraviolet and near infrared (300–2000 nm). The ◦ angle of incidence was 15 in all the measurements of optical reflectance.', 'Fig. 6. Optical reflectance spectra obtained by measurement with LMPM specimens : (a) Polished surface of metals, (b) Naturally solidified surface of LMPMs.\\n\\nResultsinOptics12(2023)1004737\\n\\nE. Imaizumi et al.\\n\\nFig. 7. Relationship between surface roughness and optical reflectance of LMPMs: (a) wavelength of incident light was 600 nm and (b) wavelength of incident light was 1500 nm.\\n\\nAcknowledgement\\n\\nThis research was supported by the grant of Joint Research by the National Institutes of Natural Sciences (NINS). (NINS program No, 01112204).\\n\\nReferences\\n\\nAdachi, S., 2012. The Handbook on Optical Constants of Metals In Tables and Figures.\\n\\nWorld Scientific, Singapura.\\n\\nAngel, R., et al., 2006. A Lunar Liquid Mirror Telescope (LLMT) for deep-field infrared observations near the lunar pole. Proceedings of SPIE. 6365, 62651U. https://doi. org/10.1117/12.669994.', 'Table 2 presents the list of specimens used for the reflectance mea- surements. The specimens of solidified LMPMs (i.e., Wood’s metal, lead–bismuth eutectic (LBE), Pb, Bi, Sn and Ga) were prepared. The liquid LMPMs were melted by a plate heater and solidified under natural\\n\\nTable 2 List of specimens used for measurement of optical reflectance.\\n\\nSurface observation and optical reflectance measurement\\n\\nAfter polished\\n\\nAfter solidification (Static condition)\\n\\n–\\n\\n316L austenitic steel Wood’s metal LBE Pb Bi Sn Ga\\n\\nYes Yes Yes Yes Yes Yes No\\n\\nTable 3 Arithmetic mean surface roughness of low-melting-point metals solidified under natural cooling at static condition (Unit: µm).\\n\\nYes Yes Yes Yes Yes Yes\\n\\nWood’s metal\\n\\nLBE\\n\\nPb\\n\\nBi\\n\\nSn\\n\\nGa\\n\\n0.748\\n\\n5.636\\n\\n0.074\\n\\n0.534\\n\\n0.072\\n\\n0.049\\n\\nResultsinOptics12(2023)1004734\\n\\nE. Imaizumi et al.\\n\\n4. Results and discussions\\n\\nTable 4 Arithmetic mean surface roughness of metal specimens after various polishing procedures (Unit: µm).\\n\\n4.1. Dynamic formation of parabolic LMPM mirror\\n\\nPb']]}\n"
          ]
        }
      ],
      "source": [
        "knw = knowledgebase('can you list the specimens used for measurement of optical reflectance?')"
      ]
    },
    {
      "cell_type": "code",
      "execution_count": 32,
      "metadata": {},
      "outputs": [
        {
          "data": {
            "text/plain": [
              "'3.3. Measurement of reflectance on surface of low-melting-point metal specimens\\n\\nThe reflectance of solidified LMPM specimens was evaluated by relative specular reflectance measurement with the spectrophotometer (SolidSpec-3700, SHIMADZU CORPORATION, Kyoto-shi, Kyoto, Japan) as shown in Fig. 3(a), which is installed in National Astronomical Ob- servatory of Japan (NAOJ). The reflectance of the LMPM specimens was based on the intensity ratio between the incident light and the light detected by the detector. The wavelength of incident light was varied in the range between ultraviolet and near infrared (300–2000 nm). The ◦ angle of incidence was 15 in all the measurements of optical reflectance.\\nFig. 6. Optical reflectance spectra obtained by measurement with LMPM specimens : (a) Polished surface of metals, (b) Naturally solidified surface of LMPMs.\\n\\nResultsinOptics12(2023)1004737\\n\\nE. Imaizumi et al.\\n\\nFig. 7. Relationship between surface roughness and optical reflectance of LMPMs: (a) wavelength of incident light was 600 nm and (b) wavelength of incident light was 1500 nm.\\n\\nAcknowledgement\\n\\nThis research was supported by the grant of Joint Research by the National Institutes of Natural Sciences (NINS). (NINS program No, 01112204).\\n\\nReferences\\n\\nAdachi, S., 2012. The Handbook on Optical Constants of Metals In Tables and Figures.\\n\\nWorld Scientific, Singapura.\\n\\nAngel, R., et al., 2006. A Lunar Liquid Mirror Telescope (LLMT) for deep-field infrared observations near the lunar pole. Proceedings of SPIE. 6365, 62651U. https://doi. org/10.1117/12.669994.\\nTable 2 presents the list of specimens used for the reflectance mea- surements. The specimens of solidified LMPMs (i.e., Wood’s metal, lead–bismuth eutectic (LBE), Pb, Bi, Sn and Ga) were prepared. The liquid LMPMs were melted by a plate heater and solidified under natural\\n\\nTable 2 List of specimens used for measurement of optical reflectance.\\n\\nSurface observation and optical reflectance measurement\\n\\nAfter polished\\n\\nAfter solidification (Static condition)\\n\\n–\\n\\n316L austenitic steel Wood’s metal LBE Pb Bi Sn Ga\\n\\nYes Yes Yes Yes Yes Yes No\\n\\nTable 3 Arithmetic mean surface roughness of low-melting-point metals solidified under natural cooling at static condition (Unit: µm).\\n\\nYes Yes Yes Yes Yes Yes\\n\\nWood’s metal\\n\\nLBE\\n\\nPb\\n\\nBi\\n\\nSn\\n\\nGa\\n\\n0.748\\n\\n5.636\\n\\n0.074\\n\\n0.534\\n\\n0.072\\n\\n0.049\\n\\nResultsinOptics12(2023)1004734\\n\\nE. Imaizumi et al.\\n\\n4. Results and discussions\\n\\nTable 4 Arithmetic mean surface roughness of metal specimens after various polishing procedures (Unit: µm).\\n\\n4.1. Dynamic formation of parabolic LMPM mirror\\n\\nPb'"
            ]
          },
          "execution_count": 32,
          "metadata": {},
          "output_type": "execute_result"
        }
      ],
      "source": [
        "knw"
      ]
    },
    {
      "cell_type": "code",
      "execution_count": 39,
      "metadata": {
        "id": "P5OaW-alwESk"
      },
      "outputs": [],
      "source": [
        "def chatbot(input, chat_loop):\n",
        "\n",
        "    knowledge = knowledgebase(input)\n",
        "    if chat_loop is None:\n",
        "        chat_loop = guidance(\n",
        "                '''{{#system}}You are a helpful research assistant that answers any questions related to research papers.{{/system}}\n",
        "\n",
        "                        {{~#geneach 'conversation' stop=False}}\n",
        "\n",
        "                        {{#user~}}\n",
        "                        \n",
        "                        If user query is very generic like greeting or not at all scientific and doesn't need CONTEXT KNOWLEDGE then respond by yourself without using CONTEXT KNOWLEDGE.\n",
        "                        \n",
        "                        Query: {{set 'this.user_text' (await 'user_text') hidden=False}}\n",
        "                        Use this CONTEXT KNOWLEDGE below to frame your answer very intelligently and don't print any output that maybe unnecessary and not useful for the question. \n",
        "                        \n",
        "                        CONTEXT KNOWLEDGE:-\n",
        "                        {{knowledge}}\n",
        "                        \n",
        "                        {{~/user}}\n",
        "\n",
        "                        {{#assistant~}}\n",
        "                        {{gen 'this.response' temperature=0 max_tokens=500}}\n",
        "                        {{~/assistant}}\n",
        "\n",
        "                        {{~/geneach}}''', llm = llmcc, silent = True, caching = False)\n",
        "\n",
        "    chat_loop = chat_loop(user_text = input, knowledge = knowledge)\n",
        "    return chat_loop['conversation'][-2]['response'], chat_loop\n",
        "\n"
      ]
    },
    {
      "cell_type": "code",
      "execution_count": 43,
      "metadata": {},
      "outputs": [],
      "source": [
        "response, chat_loop = chatbot('Who are the authors of this paper on LMPMS?', None)\n",
        "print(response)"
      ]
    },
    {
      "cell_type": "code",
      "execution_count": null,
      "metadata": {},
      "outputs": [],
      "source": [
        "chat_loop"
      ]
    },
    {
      "cell_type": "code",
      "execution_count": 22,
      "metadata": {},
      "outputs": [],
      "source": [
        "response, chat_loop = chatbot('write a summary of abstract of this paper', chat_loop)\n",
        "print(response)"
      ]
    },
    {
      "cell_type": "code",
      "execution_count": null,
      "metadata": {},
      "outputs": [],
      "source": [
        "chat_loop"
      ]
    },
    {
      "cell_type": "code",
      "execution_count": 87,
      "metadata": {
        "id": "E4FzsbU0wc-w"
      },
      "outputs": [
        {
          "name": "stdout",
          "output_type": "stream",
          "text": [
            "Type \"Quit\" to exit!\n",
            "User:- What were the Arithmetic mean surface roughness of low-melting-point metals solidified under natural cooling at static condition for different LMPMs?\n",
            "Assistant:- The arithmetic mean surface roughness of low-melting-point metals solidified under natural cooling at static conditions for different LMPMs were measured and recorded in Table 3. The metals included Wood's metal, lead-bismuth eutectic (LBE), Pb, Bi, Sn, and Ga. The surface roughness values ranged from 0.049 µm to 5.636 µm. These measurements were obtained using a 3D scanning laser microscope. The effect of surface roughness on the reflectance of the specimens was also investigated.\n",
            "\n",
            "User:- Can you provide the exact value for each LMPM?\n",
            "Assistant:- The exact values for the arithmetic mean surface roughness of each low-melting-point metal (LMPM) are provided in Table 3. The values are as follows:\n",
            "\n",
            "- Wood's metal: 0.748 µm\n",
            "- Lead-bismuth eutectic (LBE): 5.636 µm\n",
            "- Pb: 0.074 µm\n",
            "- Bi: 0.534 µm\n",
            "- Sn: 0.072 µm\n",
            "- Ga: 0.049 µm\n",
            "\n",
            "These values were obtained through measurements using a 3D scanning laser microscope.\n",
            "\n",
            "User:- What conclusions can be drawn from this results?\n",
            "Assistant:- From the results obtained, several conclusions can be drawn:\n",
            "\n",
            "1. The arithmetic mean surface roughness of low-melting-point metals (LMPMs) solidified under natural cooling at static conditions varies for different metals. Wood's metal has the highest surface roughness of 0.748 µm, while lead-bismuth eutectic (LBE) has the highest surface roughness of 5.636 µm.\n",
            "\n",
            "2. The surface roughness of LMPMs has an impact on their reflectance. The reflectance of LMPMs with higher surface roughness tends to be lower, especially at shorter wavelengths.\n",
            "\n",
            "3. The measurement of reflectance was performed using a spectrophotometer, and the incident light wavelength ranged from ultraviolet to near infrared (300-2000 nm).\n",
            "\n",
            "4. The results provide valuable information for the development and optimization of low-melting-point metal mirrors, which can be used in various applications such as space telescopes.\n",
            "\n",
            "Overall, the study highlights the importance of surface roughness in determining the optical properties of LMPMs and emphasizes the need for precise control of surface roughness in mirror fabrication processes.\n",
            "\n",
            "User:- Quit\n",
            "Assistant:- I hope I was able to help you with your queries. Have a great day!\n"
          ]
        }
      ],
      "source": [
        "#test case\n",
        "chat_loop =  guidance(\n",
        "                '''{{#system}}You are a helpful research assistant that answers any questions related to research papers.{{/system}}\n",
        "\n",
        "                        {{~#geneach 'conversation' stop=False}}\n",
        "\n",
        "                        {{#user~}}\n",
        "                        \n",
        "                        If user query is very generic like greeting or not at all scientific and doesn't need CONTEXT KNOWLEDGE then respond by yourself without using CONTEXT KNOWLEDGE.\n",
        "                        \n",
        "                        Query: {{set 'this.user_text' (await 'user_text') hidden=False}}\n",
        "                        Use this CONTEXT KNOWLEDGE below to frame your answer very intelligently and don't print any output that maybe unnecessary and not useful for the question. \n",
        "                        \n",
        "                        CONTEXT KNOWLEDGE:-\n",
        "                        {{knowledge}}\n",
        "                        \n",
        "                        {{~/user}}\n",
        "\n",
        "                        {{#assistant~}}\n",
        "                        {{gen 'this.response' temperature=0 max_tokens=500}}\n",
        "                        {{~/assistant}}\n",
        "\n",
        "                        {{~/geneach}}''', llm = llmcc, silent = True, caching = False)\n",
        "\n",
        "\n",
        "\n",
        "print('Type \"Quit\" to exit!\\n')\n",
        "while True:\n",
        "    user_text = input()\n",
        "    if user_text.lower() == 'quit':\n",
        "        print('User:- Quit')\n",
        "        print('Assistant:- I hope I was able to help you with your queries. Have a great day!')\n",
        "        break\n",
        "    knowledge = knowledgebase(user_text)\n",
        "    chat_loop = chat_loop(user_text = user_text, knowledge=knowledge)\n",
        "    print(f'User:- {user_text}')\n",
        "    response = chat_loop['conversation'][-2]['response']\n",
        "    print(f\"Assistant:- {response}\")\n",
        "    print()"
      ]
    }
  ],
  "metadata": {
    "colab": {
      "provenance": []
    },
    "kernelspec": {
      "display_name": "llm",
      "language": "python",
      "name": "python3"
    },
    "language_info": {
      "codemirror_mode": {
        "name": "ipython",
        "version": 3
      },
      "file_extension": ".py",
      "mimetype": "text/x-python",
      "name": "python",
      "nbconvert_exporter": "python",
      "pygments_lexer": "ipython3",
      "version": "3.11.4"
    },
    "orig_nbformat": 4
  },
  "nbformat": 4,
  "nbformat_minor": 0
}
